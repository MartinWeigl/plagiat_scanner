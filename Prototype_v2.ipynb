{
 "cells": [
  {
   "cell_type": "markdown",
   "metadata": {},
   "source": [
    "## Create tokens from python source code"
   ]
  },
  {
   "cell_type": "code",
   "execution_count": 7,
   "metadata": {},
   "outputs": [],
   "source": [
    "import pygments.token\n",
    "import pygments.lexers\n",
    "\n",
    "def tokenize(filename):\n",
    "    file = open(filename, \"r\")\n",
    "    text = file.read()\n",
    "    file.close()\n",
    "    lexer = pygments.lexers.python.PythonLexer()\n",
    "    tokens = lexer.get_tokens(text)\n",
    "    tokens = list(tokens)\n",
    "    result = []\n",
    "    for i,token in enumerate(tokens):\n",
    "        if token[0] == pygments.token.Name.Function:\n",
    "            result.append('F') #Append Functionnames\n",
    "        elif token[0] == pygments.token.Name and not tokens[i+1][1] == '(':\n",
    "            result.append('V') #Append VariableNames\n",
    "        elif token[0] == pygments.token.Name and tokens[i+1][1] == '(':\n",
    "            result.append('C') #Append Call\n",
    "        elif token[0] in pygments.token.Literal.Number:\n",
    "            result.append('N') #Append indent\n",
    "        elif token[0] in pygments.token.Literal.String and token[1] != '\\'':\n",
    "            result.append('S')  #Append strings\n",
    "        elif token[0] in pygments.token.Keyword:\n",
    "            result.append('K') #Append Keyword\n",
    "        elif token[0] == pygments.token.Text and token[1] == '\\t':\n",
    "            result.append('I') #Append indent\n",
    "        elif token[0] == pygments.token.Text and token[1] == '\\n':\n",
    "            result.append('L') #Append linefeed\n",
    "        elif token[0] == pygments.token.Operator.Word:\n",
    "            result.append('O') ##Append Operator Words (in, and, not)\n",
    "        elif token[0] == pygments.token.Operator and token[1] == '==':\n",
    "            result.append('C') ##All remaining operators\n",
    "        elif token[0] == pygments.token.Operator or token[0] == pygments.token.Punctuation:\n",
    "            result.append(token[1]) ##All remaining operators\n",
    "        elif token[0] == pygments.token.Name.Builtin:\n",
    "            result.append('B') #Builtin functions (range,sort ....)\n",
    "        elif token[0] in pygments.token.Comment:\n",
    "            pass   #Ignore Comments\n",
    "        else:\n",
    "            pass #Ignore other Input\n",
    "        \n",
    "        #print(token)  \n",
    "\n",
    "    return result"
   ]
  },
  {
   "cell_type": "code",
   "execution_count": 30,
   "metadata": {},
   "outputs": [],
   "source": [
    "file_A = \"./TESTFILES/basics_strings_1.py\"\n",
    "file_B = \"./TESTFILES/basics_strings_2.py\"\n",
    "\n",
    "token1 = tokenize(file_A)\n",
    "token2 = tokenize(file_B)"
   ]
  },
  {
   "cell_type": "code",
   "execution_count": 3,
   "metadata": {},
   "outputs": [],
   "source": [
    "def toText(arr):\n",
    "    cleanText = ''.join(str(x[0]) for x in arr)\n",
    "    return cleanText"
   ]
  },
  {
   "cell_type": "code",
   "execution_count": 31,
   "metadata": {},
   "outputs": [
    {
     "name": "stdout",
     "output_type": "stream",
     "text": [
      "TOKENS 1: LB(SSS)LB(SSS)LLLLB(N+N)LB(N**N)LB(N/N)LB(N%N)LB(NV*NV)LB(B(N,N))LV=N+NVLB(V.V)LB(V.V)LLLLV=N/NLV=NLV*VLLLLLLV=SSSLV=SSSLV=SSSLLB(VCV)LB(VOV)LB(VOV)LB(VCV)LLV=SSSSSLB(V)LLB(SSSSSSSSSSSS)LLLLV=SLV=NLB(V)LB(V)LB(B(V)+S+V+S)LLB(SSSS%(V,V))LLLV=SLB(V[N])LB(V[N:N])LB(V[:N])LB(V[N:])LB(V[:N]+V[N:])LB(SSS)LLB(V[:-N])LB(V[-N:])LB(V[:-N]+V[-N:])LLB(V[-N])LLB(B(V))LLLL\n",
      "\n",
      "TOKENS 2: B(N+N)LB(N**N)LB(N/N)LB(N%N)LV=N+NVLB(V.V)LB(V.V)LLV=SSSLV=SSSLV=SSSLLB(VCV)LB(VOV)LB(VOV)LB(VCV)LLV=SSSSSLB(V)LV=SLB(V[N])LB(V[N:N])LB(V[:N])LB(V[N:])LB(V[:N]+V[N:])LB(SSS)LB(V[:-N])LB(V[-N:])LB(V[:-N]+V[-N:])LB(V[-N])LB(B(V))LLB(SSSSSSSSSSSS)LV=SLV=NLB(V)LB(V)LB(B(V)+S+V+S)LLB(SSSS%(V,V))L\n"
     ]
    }
   ],
   "source": [
    "print(\"TOKENS 1: \" + toText(token1))\n",
    "print(\"\\nTOKENS 2: \" + toText(token2))"
   ]
  },
  {
   "cell_type": "markdown",
   "metadata": {},
   "source": [
    "## Tokens as NP-Array"
   ]
  },
  {
   "cell_type": "code",
   "execution_count": 34,
   "metadata": {},
   "outputs": [
    {
     "data": {
      "image/png": "[encoded data removed]",
      "text/plain": [
       "<Figure size 720x720 with 2 Axes>"
      ]
     },
     "metadata": {
      "needs_background": "light"
     },
     "output_type": "display_data"
    }
   ],
   "source": [
    "import numpy as np\n",
    "%matplotlib inline\n",
    "import itertools\n",
    "import matplotlib.pyplot as plt\n",
    "import seaborn as sns;\n",
    "\n",
    "def to_array(token):\n",
    "    code_representation = []\n",
    "    result = []\n",
    "    \n",
    "    for t in token:\n",
    "        if (t == 'L'):\n",
    "                code_representation.append(result)\n",
    "                result = [] #Reset result\n",
    "        else:\n",
    "            result.append(ord(t))\n",
    "    return np.array(list(itertools.zip_longest(*code_representation, fillvalue=0))).T\n",
    "\n",
    "data1 = to_array(token1)\n",
    "data2 = to_array(token2)\n",
    "\n",
    "max_row = 0\n",
    "max_col = 0\n",
    "extend_d1 = data1.shape\n",
    "extend_d2 = data2.shape\n",
    "\n",
    "\n",
    "if (extend_d1[0] > extend_d2[0]):\n",
    "    max_row = extend_d1[0]\n",
    "else:\n",
    "    max_row = extend_d2[0]\n",
    "\n",
    "if (extend_d1[1] > extend_d2[1]):\n",
    "    max_col = extend_d1[1]\n",
    "else:\n",
    "    max_col = extend_d2[1]\n",
    "    \n",
    "sns.color_palette(\"tab10\")\n",
    "f,axes = plt.subplots(1,2,figsize=(10,10))\n",
    "sns.heatmap(data1,ax=axes[0],cbar=False, cmap=\"Paired\")\n",
    "sns.heatmap(data2,ax=axes[1],cbar=False, cmap=\"Paired\")\n",
    "axes[0].set_title(file_A)\n",
    "axes[1].set_title(file_B)\n",
    "\n",
    "#plt.savefig(\"./test.png\")"
   ]
  },
  {
   "cell_type": "code",
   "execution_count": null,
   "metadata": {},
   "outputs": [],
   "source": [
    "#Showing array using filter\n",
    "\n",
    "search_term = input(\"Please type a key to apply filter: \")\n",
    "\n",
    "mask1 = (data1 == ord(search_term))\n",
    "mask2 = (data2 == ord(search_term))\n",
    "\n",
    "f,axes = plt.subplots(1,2,figsize=(10,10))\n",
    "sns.heatmap(data1,ax=axes[0],cbar=False, mask=mask1, cmap=\"Paired\")\n",
    "sns.heatmap(data2,ax=axes[1],cbar=False, mask=mask2, cmap=\"Paired\")\n",
    "axes[0].set_title(file_A)\n",
    "axes[1].set_title(file_B)"
   ]
  },
  {
   "cell_type": "markdown",
   "metadata": {},
   "source": [
    "## Cosine similarity for single characters"
   ]
  },
  {
   "cell_type": "code",
   "execution_count": 33,
   "metadata": {},
   "outputs": [
    {
     "name": "stdout",
     "output_type": "stream",
     "text": [
      "Cosine similarity = 0.9842143602607751\n"
     ]
    }
   ],
   "source": [
    "from collections import Counter\n",
    "from math import sqrt\n",
    "\n",
    "#Calculate word vector\n",
    "def word2vec(word):\n",
    "    count_characters = Counter(word)\n",
    "    set_characters = set(count_characters)\n",
    "    length = sqrt(sum(c*c for c in count_characters.values())) \n",
    "    return count_characters, set_characters, length\n",
    "\n",
    "#Get cosine similarity\n",
    "def get_cossim(v1, v2):\n",
    "    # which characters are common to the two words?\n",
    "    common = v1[1].intersection(v2[1])\n",
    "    # by definition of cosine distance we have\n",
    "    return sum(v1[0][ch]*v2[0][ch] for ch in common)/v1[2]/v2[2]\n",
    "\n",
    "cos_sim = get_cossim(word2vec(token1), word2vec(token2))\n",
    "print(\"Cosine similarity = %s\" %cos_sim)"
   ]
  },
  {
   "cell_type": "markdown",
   "metadata": {},
   "source": [
    "## Winnowing algorith"
   ]
  },
  {
   "cell_type": "code",
   "execution_count": 17,
   "metadata": {},
   "outputs": [],
   "source": [
    "import hashlib\n",
    "\n",
    "#sha-1 encoding is used to generate hash values\n",
    "def hash(text):\n",
    "    #this function generates hash values\n",
    "    hashval = hashlib.sha1(text.encode('utf-8'))\n",
    "    hashval = hashval.hexdigest()[-4 :]\n",
    "    hashval = int(hashval, 16)  #using last 16 bits of sha-1 digest\n",
    "    return hashval\n",
    "\n",
    "#function to form k-grams out of the cleaned up text\n",
    "def kgrams(text, k = 25):\n",
    "    tokenList = list(text)\n",
    "    n = len(tokenList)\n",
    "    kgrams = []\n",
    "    for i in range(n - k + 1):\n",
    "        kgram = ''.join(tokenList[i : i + k])\n",
    "        hv = hash(kgram)\n",
    "        kgrams.append((kgram, hv, i, i + k))  #k-gram, its hash value, starting and ending positions are stored\n",
    "        #these help in marking the plagiarized content in the original code.\n",
    "    return kgrams"
   ]
  },
  {
   "cell_type": "code",
   "execution_count": 18,
   "metadata": {},
   "outputs": [],
   "source": [
    "kGrams1 = kgrams(token1)\n",
    "kGrams2 = kgrams(token2)"
   ]
  },
  {
   "cell_type": "code",
   "execution_count": 19,
   "metadata": {},
   "outputs": [],
   "source": [
    "#takes k-gram list as input and returns a list of only hash values\n",
    "def hashList(arr):\n",
    "    HL = []\n",
    "    for i in arr:\n",
    "        HL.append(i[1])\n",
    "\n",
    "    return HL"
   ]
  },
  {
   "cell_type": "code",
   "execution_count": 20,
   "metadata": {},
   "outputs": [],
   "source": [
    "HL1 = hashList(kGrams1)  #hash list derived from k-grams list\n",
    "HL2 = hashList(kGrams2)"
   ]
  },
  {
   "cell_type": "code",
   "execution_count": 21,
   "metadata": {},
   "outputs": [],
   "source": [
    "#function that returns the index at which minimum value of a given list (window) is located\n",
    "def minIndex(arr):\n",
    "    minI = 0\n",
    "    minV = arr[0]\n",
    "    n = len(arr)\n",
    "    for i in range(n):\n",
    "        if arr[i] < minV:\n",
    "            minV = arr[i]\n",
    "            minI = i\n",
    "    return minI\n",
    "\n",
    "\n",
    "#form windows of hash values and use min-hash to limit the number of fingerprints\n",
    "def fingerprints(arr, winSize = 4):\n",
    "    arrLen = len(arr)\n",
    "    prevMin = 0\n",
    "    currMin = 0\n",
    "    windows = []\n",
    "    fingerprintList = []\n",
    "    for i in range(arrLen - winSize):\n",
    "        win = arr[i: i + winSize]  #forming windows\n",
    "        windows.append(win)\n",
    "        currMin = i + minIndex(win)\n",
    "        if not currMin == prevMin:  #min value of window is stored only if it is not the same as min value of prev window\n",
    "            fingerprintList.append(arr[currMin])  #reduces the number of fingerprints while maintaining guarantee\n",
    "            prevMin = currMin  #refer to density of winnowing and guarantee threshold (Stanford paper)\n",
    "\n",
    "    return fingerprintList"
   ]
  },
  {
   "cell_type": "code",
   "execution_count": 22,
   "metadata": {},
   "outputs": [],
   "source": [
    "fpList1 = fingerprints(HL1)\n",
    "fpList2 = fingerprints(HL2)"
   ]
  },
  {
   "cell_type": "code",
   "execution_count": 24,
   "metadata": {},
   "outputs": [
    {
     "name": "stdout",
     "output_type": "stream",
     "text": [
      "[45566, 43642, 39382, 38246, 18770, 30444, 8970, 18770, 30444, 8970, 37894, 4490, 4750, 3479, 8431, 17981, 31693, 1393, 12707, 19884, 16190, 9834, 13110, 13606, 14775, 24769, 17030, 7429, 15429, 28730, 24067, 15162, 3597, 10706, 11544, 3589, 25541, 23487, 1100, 3105, 16331, 8610, 3667, 30782, 22495, 7094, 4328, 9832, 39498, 29073, 9177, 11473, 14652, 1426, 14371, 22298, 22403, 27155, 18890, 6156, 37816, 9077, 14980, 20807, 14376]\n",
      "[15002, 2288, 3006, 9239, 25967, 34961, 14893, 9693, 18036, 17414, 2134, 1397, 4833, 10063, 6345, 31690, 7832, 7352, 7004, 4632, 5865, 24843, 26137, 29050, 5199, 37780, 33095, 26134, 20080, 31982, 26896, 19096, 15828, 3497, 9153, 2137, 34860, 27323, 24906, 23307, 12805, 33090, 5276, 5204, 9142, 8682, 9714, 17544, 25356, 13768, 15364, 17909, 10802, 6410, 6210, 15883, 4293, 18221, 1924, 3109, 8339, 19673, 16317, 1854, 14817, 4754, 476, 18492, 45374, 44350, 32663, 20360, 17849, 1263, 12689, 24918, 2207, 5804, 16335, 15746, 9045, 13486, 25214, 18815, 29629, 1541, 5537, 2504, 2395, 7723, 7532, 6395, 12665, 29368, 18045, 8534, 4088, 5595, 15567, 12061, 8981, 6377, 17964, 17265, 35951, 10494, 24565, 24688]\n"
     ]
    }
   ],
   "source": [
    "print(fpList1)\n",
    "print(fpList2)"
   ]
  }
 ],
 "metadata": {
  "kernelspec": {
   "display_name": "Python 3",
   "language": "python",
   "name": "python3"
  },
  "language_info": {
   "codemirror_mode": {
    "name": "ipython",
    "version": 3
   },
   "file_extension": ".py",
   "mimetype": "text/x-python",
   "name": "python",
   "nbconvert_exporter": "python",
   "pygments_lexer": "ipython3",
   "version": "3.8.5"
  }
 },
 "nbformat": 4,
 "nbformat_minor": 4
}
